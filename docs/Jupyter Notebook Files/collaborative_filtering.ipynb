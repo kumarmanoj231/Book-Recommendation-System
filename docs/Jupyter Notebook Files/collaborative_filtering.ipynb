{
 "cells": [
  {
   "cell_type": "code",
   "execution_count": 604,
   "id": "14d5f4f0-ee3c-4125-b006-aef1eb136de0",
   "metadata": {},
   "outputs": [],
   "source": [
    "# Download these files\n",
    "\n",
    "# books_titles.json\n",
    "# https://drive.google.com/file/d/1Iqv9TROqNgYbUDijSaDegv4EPpxO97t3/view?usp=sharing\n",
    "\n",
    "# goodreads_interactions.csv\n",
    "# https://drive.google.com/open?id=1zmylV7XW2dfQVCLeg1LbllfQtHD2KUon\n",
    "\n",
    "# book_id_map.csv\n",
    "# https://drive.google.com/uc?id=1CHTAaNwyzvbi1TR08MJrJ03BxA266Yxr\n",
    "\n",
    "# liked_books.csv\n",
    "# https://drive.google.com/file/d/1dhPhfD5hAOJjrdf8JhvbOPxDpF4qWYnb/view?usp=sharing\n",
    "\n",
    "# Full code is at https://github.com/dataquestio/project-walkthroughs/tree/master/books\n",
    "\n",
    "import pandas as pd\n",
    "\n",
    "my_books = pd.read_csv(\"liked_books.csv\", index_col=0)\n",
    "my_books[\"book_id\"] = my_books[\"book_id\"].astype(str)\n"
   ]
  },
  {
   "cell_type": "code",
   "execution_count": 605,
   "id": "6ec89b56",
   "metadata": {},
   "outputs": [
    {
     "data": {
      "text/html": [
       "<div>\n",
       "<style scoped>\n",
       "    .dataframe tbody tr th:only-of-type {\n",
       "        vertical-align: middle;\n",
       "    }\n",
       "\n",
       "    .dataframe tbody tr th {\n",
       "        vertical-align: top;\n",
       "    }\n",
       "\n",
       "    .dataframe thead th {\n",
       "        text-align: right;\n",
       "    }\n",
       "</style>\n",
       "<table border=\"1\" class=\"dataframe\">\n",
       "  <thead>\n",
       "    <tr style=\"text-align: right;\">\n",
       "      <th></th>\n",
       "      <th>user_id</th>\n",
       "      <th>book_id</th>\n",
       "      <th>ratings</th>\n",
       "      <th>title</th>\n",
       "      <th>cover_image</th>\n",
       "      <th>url</th>\n",
       "      <th>num_pages</th>\n",
       "      <th>rating</th>\n",
       "    </tr>\n",
       "  </thead>\n",
       "  <tbody>\n",
       "    <tr>\n",
       "      <th>0</th>\n",
       "      <td>-1</td>\n",
       "      <td>17184521</td>\n",
       "      <td>NaN</td>\n",
       "      <td>Algo más que vecinos</td>\n",
       "      <td>https://images.gr-assets.com/books/1356611655m...</td>\n",
       "      <td>https://www.goodreads.com/book/show/17184521-a...</td>\n",
       "      <td>180</td>\n",
       "      <td>710.0</td>\n",
       "    </tr>\n",
       "    <tr>\n",
       "      <th>0</th>\n",
       "      <td>-1</td>\n",
       "      <td>4066338</td>\n",
       "      <td>NaN</td>\n",
       "      <td>The History of Java</td>\n",
       "      <td>https://images.gr-assets.com/books/1395827710m...</td>\n",
       "      <td>https://www.goodreads.com/book/show/4066338-th...</td>\n",
       "      <td>938</td>\n",
       "      <td>268.0</td>\n",
       "    </tr>\n",
       "    <tr>\n",
       "      <th>0</th>\n",
       "      <td>-1</td>\n",
       "      <td>305773</td>\n",
       "      <td>NaN</td>\n",
       "      <td>Beyond Java</td>\n",
       "      <td>https://images.gr-assets.com/books/1384259050m...</td>\n",
       "      <td>https://www.goodreads.com/book/show/305773.Bey...</td>\n",
       "      <td>208</td>\n",
       "      <td>52.0</td>\n",
       "    </tr>\n",
       "  </tbody>\n",
       "</table>\n",
       "</div>"
      ],
      "text/plain": [
       "   user_id   book_id  ratings                 title  \\\n",
       "0       -1  17184521      NaN  Algo más que vecinos   \n",
       "0       -1   4066338      NaN   The History of Java   \n",
       "0       -1    305773      NaN           Beyond Java   \n",
       "\n",
       "                                         cover_image  \\\n",
       "0  https://images.gr-assets.com/books/1356611655m...   \n",
       "0  https://images.gr-assets.com/books/1395827710m...   \n",
       "0  https://images.gr-assets.com/books/1384259050m...   \n",
       "\n",
       "                                                 url  num_pages  rating  \n",
       "0  https://www.goodreads.com/book/show/17184521-a...        180   710.0  \n",
       "0  https://www.goodreads.com/book/show/4066338-th...        938   268.0  \n",
       "0  https://www.goodreads.com/book/show/305773.Bey...        208    52.0  "
      ]
     },
     "execution_count": 605,
     "metadata": {},
     "output_type": "execute_result"
    }
   ],
   "source": [
    "my_books\n"
   ]
  },
  {
   "cell_type": "code",
   "execution_count": 606,
   "id": "c0e0f456",
   "metadata": {},
   "outputs": [],
   "source": [
    "my_books = my_books[['user_id','book_id','rating','title']]\n"
   ]
  },
  {
   "cell_type": "code",
   "execution_count": 607,
   "id": "07ea4260",
   "metadata": {},
   "outputs": [
    {
     "data": {
      "text/html": [
       "<div>\n",
       "<style scoped>\n",
       "    .dataframe tbody tr th:only-of-type {\n",
       "        vertical-align: middle;\n",
       "    }\n",
       "\n",
       "    .dataframe tbody tr th {\n",
       "        vertical-align: top;\n",
       "    }\n",
       "\n",
       "    .dataframe thead th {\n",
       "        text-align: right;\n",
       "    }\n",
       "</style>\n",
       "<table border=\"1\" class=\"dataframe\">\n",
       "  <thead>\n",
       "    <tr style=\"text-align: right;\">\n",
       "      <th></th>\n",
       "      <th>user_id</th>\n",
       "      <th>book_id</th>\n",
       "      <th>rating</th>\n",
       "      <th>title</th>\n",
       "    </tr>\n",
       "  </thead>\n",
       "  <tbody>\n",
       "    <tr>\n",
       "      <th>0</th>\n",
       "      <td>-1</td>\n",
       "      <td>17184521</td>\n",
       "      <td>710.0</td>\n",
       "      <td>Algo más que vecinos</td>\n",
       "    </tr>\n",
       "    <tr>\n",
       "      <th>0</th>\n",
       "      <td>-1</td>\n",
       "      <td>4066338</td>\n",
       "      <td>268.0</td>\n",
       "      <td>The History of Java</td>\n",
       "    </tr>\n",
       "    <tr>\n",
       "      <th>0</th>\n",
       "      <td>-1</td>\n",
       "      <td>305773</td>\n",
       "      <td>52.0</td>\n",
       "      <td>Beyond Java</td>\n",
       "    </tr>\n",
       "  </tbody>\n",
       "</table>\n",
       "</div>"
      ],
      "text/plain": [
       "   user_id   book_id  rating                 title\n",
       "0       -1  17184521   710.0  Algo más que vecinos\n",
       "0       -1   4066338   268.0   The History of Java\n",
       "0       -1    305773    52.0           Beyond Java"
      ]
     },
     "execution_count": 607,
     "metadata": {},
     "output_type": "execute_result"
    }
   ],
   "source": [
    "my_books\n"
   ]
  },
  {
   "cell_type": "code",
   "execution_count": 608,
   "id": "f3c8673d-2b3b-4b4e-9999-358fa79fb796",
   "metadata": {},
   "outputs": [],
   "source": [
    "csv_book_mapping = {}\n",
    "\n",
    "with open(\"book_id_map.csv\", \"r\") as f:\n",
    "    while True:\n",
    "        line = f.readline()\n",
    "        if not line:\n",
    "            break\n",
    "        csv_id, book_id = line.strip().split(\",\")\n",
    "        csv_book_mapping[csv_id] = book_id\n"
   ]
  },
  {
   "cell_type": "code",
   "execution_count": 609,
   "id": "a5728539-6d22-4df8-8afd-2b14c3e85c7f",
   "metadata": {},
   "outputs": [],
   "source": [
    "book_set = set(my_books[\"book_id\"])\n"
   ]
  },
  {
   "cell_type": "code",
   "execution_count": 610,
   "id": "d4071d39-5c91-4012-a5d8-c1d0cc1b9518",
   "metadata": {},
   "outputs": [],
   "source": [
    "overlap_users = {}\n",
    "\n",
    "with open(\"goodreads_interactions.csv\", 'r') as f:\n",
    "    while True:\n",
    "        line = f.readline()\n",
    "        if not line:\n",
    "            break\n",
    "        user_id, csv_id, _, rating, _ = line.split(\",\")\n",
    "        \n",
    "        book_id = csv_book_mapping.get(csv_id)\n",
    "        \n",
    "        if book_id in book_set:\n",
    "            if user_id not in overlap_users:\n",
    "                overlap_users[user_id] = 1\n",
    "            else:\n",
    "                overlap_users[user_id] += 1\n"
   ]
  },
  {
   "cell_type": "code",
   "execution_count": 611,
   "id": "c3efcdcc-b16e-459d-9a9d-81b0d35b8ccd",
   "metadata": {},
   "outputs": [
    {
     "data": {
      "text/plain": [
       "26"
      ]
     },
     "execution_count": 611,
     "metadata": {},
     "output_type": "execute_result"
    }
   ],
   "source": [
    "len(overlap_users)\n"
   ]
  },
  {
   "cell_type": "code",
   "execution_count": 612,
   "id": "93b5bdd4-be14-4ca0-b658-a41fc5c144ae",
   "metadata": {},
   "outputs": [],
   "source": [
    "filtered_overlap_users = set([k for k in overlap_users if overlap_users[k] > my_books.shape[0]/5])\n"
   ]
  },
  {
   "cell_type": "code",
   "execution_count": 613,
   "id": "26225218-aba1-44d3-997a-29026f5adf78",
   "metadata": {},
   "outputs": [
    {
     "data": {
      "text/plain": [
       "26"
      ]
     },
     "execution_count": 613,
     "metadata": {},
     "output_type": "execute_result"
    }
   ],
   "source": [
    "len(filtered_overlap_users)\n"
   ]
  },
  {
   "cell_type": "code",
   "execution_count": 614,
   "id": "3da428ca-578c-47f0-b6c5-63316741536f",
   "metadata": {},
   "outputs": [],
   "source": [
    "interactions_list = []\n",
    "\n",
    "with open(\"goodreads_interactions.csv\", 'r') as f:\n",
    "    while True:\n",
    "        line = f.readline()\n",
    "        if not line:\n",
    "            break\n",
    "        user_id, csv_id, _, rating, _ = line.split(\",\")\n",
    "        \n",
    "        if user_id in filtered_overlap_users:\n",
    "            book_id = csv_book_mapping[csv_id]\n",
    "            interactions_list.append([user_id, book_id, rating])\n"
   ]
  },
  {
   "cell_type": "code",
   "execution_count": 615,
   "id": "df2121dc-ec01-4fb2-9326-5e811c199fe6",
   "metadata": {},
   "outputs": [
    {
     "data": {
      "text/plain": [
       "34759"
      ]
     },
     "execution_count": 615,
     "metadata": {},
     "output_type": "execute_result"
    }
   ],
   "source": [
    "len(interactions_list)\n"
   ]
  },
  {
   "cell_type": "code",
   "execution_count": 616,
   "id": "913eb8dd-2b9e-4000-aa4e-e3b76f57f78c",
   "metadata": {},
   "outputs": [
    {
     "data": {
      "text/plain": [
       "['3287', '1301625', '5']"
      ]
     },
     "execution_count": 616,
     "metadata": {},
     "output_type": "execute_result"
    }
   ],
   "source": [
    "interactions_list[0]\n"
   ]
  },
  {
   "cell_type": "code",
   "execution_count": 617,
   "id": "f235bce7-a4f4-4976-9e59-719dd4ba0e33",
   "metadata": {},
   "outputs": [],
   "source": [
    "interactions = pd.DataFrame(interactions_list, columns=[\"user_id\", \"book_id\", \"rating\"])\n"
   ]
  },
  {
   "cell_type": "code",
   "execution_count": 618,
   "id": "64bf2416-5967-48eb-80cf-46929b612ac5",
   "metadata": {},
   "outputs": [],
   "source": [
    "interactions = pd.concat([my_books[[\"user_id\", \"book_id\", \"rating\"]], interactions])\n"
   ]
  },
  {
   "cell_type": "code",
   "execution_count": 619,
   "id": "d41e72a3-0a94-4b3c-8983-c1b6beb74ade",
   "metadata": {},
   "outputs": [
    {
     "data": {
      "text/html": [
       "<div>\n",
       "<style scoped>\n",
       "    .dataframe tbody tr th:only-of-type {\n",
       "        vertical-align: middle;\n",
       "    }\n",
       "\n",
       "    .dataframe tbody tr th {\n",
       "        vertical-align: top;\n",
       "    }\n",
       "\n",
       "    .dataframe thead th {\n",
       "        text-align: right;\n",
       "    }\n",
       "</style>\n",
       "<table border=\"1\" class=\"dataframe\">\n",
       "  <thead>\n",
       "    <tr style=\"text-align: right;\">\n",
       "      <th></th>\n",
       "      <th>user_id</th>\n",
       "      <th>book_id</th>\n",
       "      <th>rating</th>\n",
       "    </tr>\n",
       "  </thead>\n",
       "  <tbody>\n",
       "    <tr>\n",
       "      <th>0</th>\n",
       "      <td>-1</td>\n",
       "      <td>17184521</td>\n",
       "      <td>710.0</td>\n",
       "    </tr>\n",
       "    <tr>\n",
       "      <th>0</th>\n",
       "      <td>-1</td>\n",
       "      <td>4066338</td>\n",
       "      <td>268.0</td>\n",
       "    </tr>\n",
       "    <tr>\n",
       "      <th>0</th>\n",
       "      <td>-1</td>\n",
       "      <td>305773</td>\n",
       "      <td>52.0</td>\n",
       "    </tr>\n",
       "    <tr>\n",
       "      <th>0</th>\n",
       "      <td>3287</td>\n",
       "      <td>1301625</td>\n",
       "      <td>5</td>\n",
       "    </tr>\n",
       "    <tr>\n",
       "      <th>1</th>\n",
       "      <td>3287</td>\n",
       "      <td>1499340</td>\n",
       "      <td>5</td>\n",
       "    </tr>\n",
       "    <tr>\n",
       "      <th>...</th>\n",
       "      <td>...</td>\n",
       "      <td>...</td>\n",
       "      <td>...</td>\n",
       "    </tr>\n",
       "    <tr>\n",
       "      <th>34754</th>\n",
       "      <td>51287</td>\n",
       "      <td>28015354</td>\n",
       "      <td>0</td>\n",
       "    </tr>\n",
       "    <tr>\n",
       "      <th>34755</th>\n",
       "      <td>51287</td>\n",
       "      <td>29589269</td>\n",
       "      <td>0</td>\n",
       "    </tr>\n",
       "    <tr>\n",
       "      <th>34756</th>\n",
       "      <td>51287</td>\n",
       "      <td>26026930</td>\n",
       "      <td>0</td>\n",
       "    </tr>\n",
       "    <tr>\n",
       "      <th>34757</th>\n",
       "      <td>51287</td>\n",
       "      <td>1378968</td>\n",
       "      <td>4</td>\n",
       "    </tr>\n",
       "    <tr>\n",
       "      <th>34758</th>\n",
       "      <td>51287</td>\n",
       "      <td>1395831</td>\n",
       "      <td>0</td>\n",
       "    </tr>\n",
       "  </tbody>\n",
       "</table>\n",
       "<p>34762 rows × 3 columns</p>\n",
       "</div>"
      ],
      "text/plain": [
       "      user_id   book_id rating\n",
       "0          -1  17184521  710.0\n",
       "0          -1   4066338  268.0\n",
       "0          -1    305773   52.0\n",
       "0        3287   1301625      5\n",
       "1        3287   1499340      5\n",
       "...       ...       ...    ...\n",
       "34754   51287  28015354      0\n",
       "34755   51287  29589269      0\n",
       "34756   51287  26026930      0\n",
       "34757   51287   1378968      4\n",
       "34758   51287   1395831      0\n",
       "\n",
       "[34762 rows x 3 columns]"
      ]
     },
     "execution_count": 619,
     "metadata": {},
     "output_type": "execute_result"
    }
   ],
   "source": [
    "interactions\n"
   ]
  },
  {
   "cell_type": "code",
   "execution_count": 620,
   "id": "2e1f5d52-4ada-483c-8fb1-6c550ee3a19c",
   "metadata": {},
   "outputs": [],
   "source": [
    "interactions[\"book_id\"] = interactions[\"book_id\"].astype(str)\n",
    "interactions[\"user_id\"] = interactions[\"user_id\"].astype(str)\n",
    "interactions[\"rating\"] = pd.to_numeric(interactions[\"rating\"])\n"
   ]
  },
  {
   "cell_type": "code",
   "execution_count": 621,
   "id": "d967bef1-2dc7-4186-beb7-913caf7ae986",
   "metadata": {},
   "outputs": [],
   "source": [
    "interactions[\"user_index\"] = interactions[\"user_id\"].astype(\"category\").cat.codes\n"
   ]
  },
  {
   "cell_type": "code",
   "execution_count": 622,
   "id": "4e7b8b80-e4de-4a36-9d23-7cd5c1d71c77",
   "metadata": {},
   "outputs": [],
   "source": [
    "interactions[\"book_index\"] = interactions[\"book_id\"].astype(\"category\").cat.codes\n"
   ]
  },
  {
   "cell_type": "code",
   "execution_count": 623,
   "id": "3a74ede9-3c58-412c-9c1f-283b43801268",
   "metadata": {},
   "outputs": [],
   "source": [
    "from scipy.sparse import coo_matrix\n",
    "\n",
    "ratings_mat_coo = coo_matrix((interactions[\"rating\"], (interactions[\"user_index\"], interactions[\"book_index\"])))\n"
   ]
  },
  {
   "cell_type": "code",
   "execution_count": 624,
   "id": "ebbcfb1c-7aee-414e-92a1-24218ae416e4",
   "metadata": {},
   "outputs": [
    {
     "data": {
      "text/plain": [
       "(27, 30433)"
      ]
     },
     "execution_count": 624,
     "metadata": {},
     "output_type": "execute_result"
    }
   ],
   "source": [
    "ratings_mat_coo.shape\n"
   ]
  },
  {
   "cell_type": "code",
   "execution_count": 625,
   "id": "51024455-a981-4325-bd6d-7a8b341185bd",
   "metadata": {},
   "outputs": [],
   "source": [
    "ratings_mat = ratings_mat_coo.tocsr()\n"
   ]
  },
  {
   "cell_type": "code",
   "execution_count": 626,
   "id": "9e8fc788-ef9d-4a59-8532-7644ed245221",
   "metadata": {},
   "outputs": [
    {
     "data": {
      "text/html": [
       "<div>\n",
       "<style scoped>\n",
       "    .dataframe tbody tr th:only-of-type {\n",
       "        vertical-align: middle;\n",
       "    }\n",
       "\n",
       "    .dataframe tbody tr th {\n",
       "        vertical-align: top;\n",
       "    }\n",
       "\n",
       "    .dataframe thead th {\n",
       "        text-align: right;\n",
       "    }\n",
       "</style>\n",
       "<table border=\"1\" class=\"dataframe\">\n",
       "  <thead>\n",
       "    <tr style=\"text-align: right;\">\n",
       "      <th></th>\n",
       "      <th>user_id</th>\n",
       "      <th>book_id</th>\n",
       "      <th>rating</th>\n",
       "      <th>user_index</th>\n",
       "      <th>book_index</th>\n",
       "    </tr>\n",
       "  </thead>\n",
       "  <tbody>\n",
       "    <tr>\n",
       "      <th>0</th>\n",
       "      <td>-1</td>\n",
       "      <td>17184521</td>\n",
       "      <td>710.0</td>\n",
       "      <td>0</td>\n",
       "      <td>8634</td>\n",
       "    </tr>\n",
       "    <tr>\n",
       "      <th>0</th>\n",
       "      <td>-1</td>\n",
       "      <td>4066338</td>\n",
       "      <td>268.0</td>\n",
       "      <td>0</td>\n",
       "      <td>22408</td>\n",
       "    </tr>\n",
       "    <tr>\n",
       "      <th>0</th>\n",
       "      <td>-1</td>\n",
       "      <td>305773</td>\n",
       "      <td>52.0</td>\n",
       "      <td>0</td>\n",
       "      <td>20213</td>\n",
       "    </tr>\n",
       "  </tbody>\n",
       "</table>\n",
       "</div>"
      ],
      "text/plain": [
       "  user_id   book_id  rating  user_index  book_index\n",
       "0      -1  17184521   710.0           0        8634\n",
       "0      -1   4066338   268.0           0       22408\n",
       "0      -1    305773    52.0           0       20213"
      ]
     },
     "execution_count": 626,
     "metadata": {},
     "output_type": "execute_result"
    }
   ],
   "source": [
    "interactions[interactions[\"user_id\"] == \"-1\"]\n"
   ]
  },
  {
   "cell_type": "code",
   "execution_count": 627,
   "id": "76cbdba1-74eb-47dc-bdc6-1a07fddf986c",
   "metadata": {},
   "outputs": [],
   "source": [
    "my_index = 0\n"
   ]
  },
  {
   "cell_type": "code",
   "execution_count": 628,
   "id": "1be4af17-9d0c-431d-b30d-6946cd316a54",
   "metadata": {},
   "outputs": [],
   "source": [
    "from sklearn.metrics.pairwise import cosine_similarity\n",
    "\n",
    "similarity = cosine_similarity(ratings_mat[my_index,:], ratings_mat).flatten()\n"
   ]
  },
  {
   "cell_type": "code",
   "execution_count": 629,
   "id": "22dabf38-979d-4074-9320-ae7ba053f253",
   "metadata": {},
   "outputs": [
    {
     "data": {
      "text/plain": [
       "0.9999999999999999"
      ]
     },
     "execution_count": 629,
     "metadata": {},
     "output_type": "execute_result"
    }
   ],
   "source": [
    "similarity[0]\n"
   ]
  },
  {
   "cell_type": "code",
   "execution_count": 630,
   "id": "2c2ea84b-3b2b-4f3b-8d29-63f4c89e73e4",
   "metadata": {},
   "outputs": [],
   "source": [
    "import numpy as np\n",
    "\n",
    "# Check if the length of similarity is greater than 15\n",
    "if len(similarity) > 15:\n",
    "    indices = np.argpartition(similarity, -15)[-15:]\n",
    "else:\n",
    "    # If less than 15, return all indices\n",
    "    indices = np.arange(len(similarity))\n"
   ]
  },
  {
   "cell_type": "code",
   "execution_count": 631,
   "id": "dfeb4260-3272-459d-babf-981d658b93ea",
   "metadata": {},
   "outputs": [
    {
     "data": {
      "text/plain": [
       "array([ 8,  5, 11, 10, 16, 14, 18,  3, 20,  6, 15, 26,  1,  2,  0],\n",
       "      dtype=int64)"
      ]
     },
     "execution_count": 631,
     "metadata": {},
     "output_type": "execute_result"
    }
   ],
   "source": [
    "indices\n"
   ]
  },
  {
   "cell_type": "code",
   "execution_count": 632,
   "id": "5f959206-2d28-4529-bfb5-e6088835077e",
   "metadata": {},
   "outputs": [],
   "source": [
    "similar_users = interactions[interactions[\"user_index\"].isin(indices)].copy()\n"
   ]
  },
  {
   "cell_type": "code",
   "execution_count": 633,
   "id": "2a1f84bf-a873-4800-9172-a08bd2902b62",
   "metadata": {},
   "outputs": [],
   "source": [
    "similar_users = similar_users[similar_users[\"user_id\"]!=\"-1\"]\n"
   ]
  },
  {
   "cell_type": "code",
   "execution_count": 634,
   "id": "5b795958-6161-45cd-b45b-fd5058fa00db",
   "metadata": {},
   "outputs": [
    {
     "data": {
      "text/html": [
       "<div>\n",
       "<style scoped>\n",
       "    .dataframe tbody tr th:only-of-type {\n",
       "        vertical-align: middle;\n",
       "    }\n",
       "\n",
       "    .dataframe tbody tr th {\n",
       "        vertical-align: top;\n",
       "    }\n",
       "\n",
       "    .dataframe thead th {\n",
       "        text-align: right;\n",
       "    }\n",
       "</style>\n",
       "<table border=\"1\" class=\"dataframe\">\n",
       "  <thead>\n",
       "    <tr style=\"text-align: right;\">\n",
       "      <th></th>\n",
       "      <th>user_id</th>\n",
       "      <th>book_id</th>\n",
       "      <th>rating</th>\n",
       "      <th>user_index</th>\n",
       "      <th>book_index</th>\n",
       "    </tr>\n",
       "  </thead>\n",
       "  <tbody>\n",
       "    <tr>\n",
       "      <th>120</th>\n",
       "      <td>3331</td>\n",
       "      <td>1885</td>\n",
       "      <td>5.0</td>\n",
       "      <td>14</td>\n",
       "      <td>12793</td>\n",
       "    </tr>\n",
       "    <tr>\n",
       "      <th>121</th>\n",
       "      <td>3331</td>\n",
       "      <td>13413899</td>\n",
       "      <td>5.0</td>\n",
       "      <td>14</td>\n",
       "      <td>4036</td>\n",
       "    </tr>\n",
       "    <tr>\n",
       "      <th>122</th>\n",
       "      <td>3331</td>\n",
       "      <td>18135</td>\n",
       "      <td>5.0</td>\n",
       "      <td>14</td>\n",
       "      <td>11173</td>\n",
       "    </tr>\n",
       "    <tr>\n",
       "      <th>123</th>\n",
       "      <td>3331</td>\n",
       "      <td>1934</td>\n",
       "      <td>5.0</td>\n",
       "      <td>14</td>\n",
       "      <td>13132</td>\n",
       "    </tr>\n",
       "    <tr>\n",
       "      <th>124</th>\n",
       "      <td>3331</td>\n",
       "      <td>117251</td>\n",
       "      <td>5.0</td>\n",
       "      <td>14</td>\n",
       "      <td>1880</td>\n",
       "    </tr>\n",
       "    <tr>\n",
       "      <th>...</th>\n",
       "      <td>...</td>\n",
       "      <td>...</td>\n",
       "      <td>...</td>\n",
       "      <td>...</td>\n",
       "      <td>...</td>\n",
       "    </tr>\n",
       "    <tr>\n",
       "      <th>33932</th>\n",
       "      <td>47296</td>\n",
       "      <td>27190170</td>\n",
       "      <td>0.0</td>\n",
       "      <td>20</td>\n",
       "      <td>18884</td>\n",
       "    </tr>\n",
       "    <tr>\n",
       "      <th>33933</th>\n",
       "      <td>47296</td>\n",
       "      <td>29634788</td>\n",
       "      <td>2.0</td>\n",
       "      <td>20</td>\n",
       "      <td>19855</td>\n",
       "    </tr>\n",
       "    <tr>\n",
       "      <th>33934</th>\n",
       "      <td>47296</td>\n",
       "      <td>22082914</td>\n",
       "      <td>0.0</td>\n",
       "      <td>20</td>\n",
       "      <td>15143</td>\n",
       "    </tr>\n",
       "    <tr>\n",
       "      <th>33935</th>\n",
       "      <td>47296</td>\n",
       "      <td>27795147</td>\n",
       "      <td>0.0</td>\n",
       "      <td>20</td>\n",
       "      <td>19106</td>\n",
       "    </tr>\n",
       "    <tr>\n",
       "      <th>33936</th>\n",
       "      <td>47296</td>\n",
       "      <td>23002501</td>\n",
       "      <td>4.0</td>\n",
       "      <td>20</td>\n",
       "      <td>16017</td>\n",
       "    </tr>\n",
       "  </tbody>\n",
       "</table>\n",
       "<p>7555 rows × 5 columns</p>\n",
       "</div>"
      ],
      "text/plain": [
       "      user_id   book_id  rating  user_index  book_index\n",
       "120      3331      1885     5.0          14       12793\n",
       "121      3331  13413899     5.0          14        4036\n",
       "122      3331     18135     5.0          14       11173\n",
       "123      3331      1934     5.0          14       13132\n",
       "124      3331    117251     5.0          14        1880\n",
       "...       ...       ...     ...         ...         ...\n",
       "33932   47296  27190170     0.0          20       18884\n",
       "33933   47296  29634788     2.0          20       19855\n",
       "33934   47296  22082914     0.0          20       15143\n",
       "33935   47296  27795147     0.0          20       19106\n",
       "33936   47296  23002501     4.0          20       16017\n",
       "\n",
       "[7555 rows x 5 columns]"
      ]
     },
     "execution_count": 634,
     "metadata": {},
     "output_type": "execute_result"
    }
   ],
   "source": [
    "similar_users\n"
   ]
  },
  {
   "cell_type": "code",
   "execution_count": 635,
   "id": "502e0943-b861-4cfb-b727-ccd65a546941",
   "metadata": {},
   "outputs": [],
   "source": [
    "book_recs = similar_users.groupby(\"book_id\").rating.agg(['count', 'mean'])\n"
   ]
  },
  {
   "cell_type": "code",
   "execution_count": 636,
   "id": "2ee2ca80-5615-4920-9cd0-13a9f8d9ddff",
   "metadata": {},
   "outputs": [
    {
     "data": {
      "text/html": [
       "<div>\n",
       "<style scoped>\n",
       "    .dataframe tbody tr th:only-of-type {\n",
       "        vertical-align: middle;\n",
       "    }\n",
       "\n",
       "    .dataframe tbody tr th {\n",
       "        vertical-align: top;\n",
       "    }\n",
       "\n",
       "    .dataframe thead th {\n",
       "        text-align: right;\n",
       "    }\n",
       "</style>\n",
       "<table border=\"1\" class=\"dataframe\">\n",
       "  <thead>\n",
       "    <tr style=\"text-align: right;\">\n",
       "      <th></th>\n",
       "      <th>count</th>\n",
       "      <th>mean</th>\n",
       "    </tr>\n",
       "    <tr>\n",
       "      <th>book_id</th>\n",
       "      <th></th>\n",
       "      <th></th>\n",
       "    </tr>\n",
       "  </thead>\n",
       "  <tbody>\n",
       "    <tr>\n",
       "      <th>1</th>\n",
       "      <td>3</td>\n",
       "      <td>3.666667</td>\n",
       "    </tr>\n",
       "    <tr>\n",
       "      <th>10</th>\n",
       "      <td>1</td>\n",
       "      <td>4.000000</td>\n",
       "    </tr>\n",
       "    <tr>\n",
       "      <th>10018310</th>\n",
       "      <td>1</td>\n",
       "      <td>3.000000</td>\n",
       "    </tr>\n",
       "    <tr>\n",
       "      <th>10021157</th>\n",
       "      <td>1</td>\n",
       "      <td>0.000000</td>\n",
       "    </tr>\n",
       "    <tr>\n",
       "      <th>10048888</th>\n",
       "      <td>1</td>\n",
       "      <td>3.000000</td>\n",
       "    </tr>\n",
       "    <tr>\n",
       "      <th>...</th>\n",
       "      <td>...</td>\n",
       "      <td>...</td>\n",
       "    </tr>\n",
       "    <tr>\n",
       "      <th>9973644</th>\n",
       "      <td>1</td>\n",
       "      <td>0.000000</td>\n",
       "    </tr>\n",
       "    <tr>\n",
       "      <th>9973902</th>\n",
       "      <td>1</td>\n",
       "      <td>0.000000</td>\n",
       "    </tr>\n",
       "    <tr>\n",
       "      <th>9974297</th>\n",
       "      <td>1</td>\n",
       "      <td>0.000000</td>\n",
       "    </tr>\n",
       "    <tr>\n",
       "      <th>999480</th>\n",
       "      <td>1</td>\n",
       "      <td>5.000000</td>\n",
       "    </tr>\n",
       "    <tr>\n",
       "      <th>9997666</th>\n",
       "      <td>1</td>\n",
       "      <td>5.000000</td>\n",
       "    </tr>\n",
       "  </tbody>\n",
       "</table>\n",
       "<p>6846 rows × 2 columns</p>\n",
       "</div>"
      ],
      "text/plain": [
       "          count      mean\n",
       "book_id                  \n",
       "1             3  3.666667\n",
       "10            1  4.000000\n",
       "10018310      1  3.000000\n",
       "10021157      1  0.000000\n",
       "10048888      1  3.000000\n",
       "...         ...       ...\n",
       "9973644       1  0.000000\n",
       "9973902       1  0.000000\n",
       "9974297       1  0.000000\n",
       "999480        1  5.000000\n",
       "9997666       1  5.000000\n",
       "\n",
       "[6846 rows x 2 columns]"
      ]
     },
     "execution_count": 636,
     "metadata": {},
     "output_type": "execute_result"
    }
   ],
   "source": [
    "book_recs\n"
   ]
  },
  {
   "cell_type": "code",
   "execution_count": 637,
   "id": "71101ae4-cad7-4875-aba9-2aba92c011cc",
   "metadata": {},
   "outputs": [],
   "source": [
    "books_titles = pd.read_json(\"books_titles.json\")\n",
    "books_titles[\"book_id\"] = books_titles[\"book_id\"].astype(str)\n"
   ]
  },
  {
   "cell_type": "code",
   "execution_count": 638,
   "id": "9826f559-3f8d-4418-b9fc-82a945d266d1",
   "metadata": {},
   "outputs": [],
   "source": [
    "book_recs = book_recs.merge(books_titles, how=\"inner\", on=\"book_id\")\n"
   ]
  },
  {
   "cell_type": "code",
   "execution_count": 639,
   "id": "28734e49-926e-43ec-bbe8-51457feefe00",
   "metadata": {},
   "outputs": [
    {
     "data": {
      "text/html": [
       "<div>\n",
       "<style scoped>\n",
       "    .dataframe tbody tr th:only-of-type {\n",
       "        vertical-align: middle;\n",
       "    }\n",
       "\n",
       "    .dataframe tbody tr th {\n",
       "        vertical-align: top;\n",
       "    }\n",
       "\n",
       "    .dataframe thead th {\n",
       "        text-align: right;\n",
       "    }\n",
       "</style>\n",
       "<table border=\"1\" class=\"dataframe\">\n",
       "  <thead>\n",
       "    <tr style=\"text-align: right;\">\n",
       "      <th></th>\n",
       "      <th>book_id</th>\n",
       "      <th>count</th>\n",
       "      <th>mean</th>\n",
       "      <th>title</th>\n",
       "      <th>ratings</th>\n",
       "      <th>url</th>\n",
       "      <th>cover_image</th>\n",
       "      <th>mod_title</th>\n",
       "    </tr>\n",
       "  </thead>\n",
       "  <tbody>\n",
       "    <tr>\n",
       "      <th>0</th>\n",
       "      <td>1</td>\n",
       "      <td>3</td>\n",
       "      <td>3.666667</td>\n",
       "      <td>Harry Potter and the Half-Blood Prince (Harry ...</td>\n",
       "      <td>1713866</td>\n",
       "      <td>https://www.goodreads.com/book/show/1.Harry_Po...</td>\n",
       "      <td>https://images.gr-assets.com/books/1361039191m...</td>\n",
       "      <td>harry potter and the halfblood prince harry po...</td>\n",
       "    </tr>\n",
       "    <tr>\n",
       "      <th>1</th>\n",
       "      <td>10</td>\n",
       "      <td>1</td>\n",
       "      <td>4.000000</td>\n",
       "      <td>Harry Potter Collection (Harry Potter, #1-6)</td>\n",
       "      <td>25245</td>\n",
       "      <td>https://www.goodreads.com/book/show/10.Harry_P...</td>\n",
       "      <td>https://images.gr-assets.com/books/1328867351m...</td>\n",
       "      <td>harry potter collection harry potter 16</td>\n",
       "    </tr>\n",
       "    <tr>\n",
       "      <th>2</th>\n",
       "      <td>10018310</td>\n",
       "      <td>1</td>\n",
       "      <td>3.000000</td>\n",
       "      <td>Shin Suikoden 1</td>\n",
       "      <td>270</td>\n",
       "      <td>https://www.goodreads.com/book/show/10018310-s...</td>\n",
       "      <td>https://s.gr-assets.com/assets/nophoto/book/11...</td>\n",
       "      <td>shin suikoden 1</td>\n",
       "    </tr>\n",
       "    <tr>\n",
       "      <th>3</th>\n",
       "      <td>10048888</td>\n",
       "      <td>1</td>\n",
       "      <td>3.000000</td>\n",
       "      <td>Kisah-kisah Tengah Malam</td>\n",
       "      <td>436</td>\n",
       "      <td>https://www.goodreads.com/book/show/10048888-k...</td>\n",
       "      <td>https://images.gr-assets.com/books/1293528971m...</td>\n",
       "      <td>kisahkisah tengah malam</td>\n",
       "    </tr>\n",
       "    <tr>\n",
       "      <th>4</th>\n",
       "      <td>10049436</td>\n",
       "      <td>2</td>\n",
       "      <td>0.000000</td>\n",
       "      <td>The Single Girl's To-Do List</td>\n",
       "      <td>10026</td>\n",
       "      <td>https://www.goodreads.com/book/show/10049436-t...</td>\n",
       "      <td>https://images.gr-assets.com/books/1327955203m...</td>\n",
       "      <td>the single girls todo list</td>\n",
       "    </tr>\n",
       "    <tr>\n",
       "      <th>...</th>\n",
       "      <td>...</td>\n",
       "      <td>...</td>\n",
       "      <td>...</td>\n",
       "      <td>...</td>\n",
       "      <td>...</td>\n",
       "      <td>...</td>\n",
       "      <td>...</td>\n",
       "      <td>...</td>\n",
       "    </tr>\n",
       "    <tr>\n",
       "      <th>6188</th>\n",
       "      <td>9959500</td>\n",
       "      <td>1</td>\n",
       "      <td>4.000000</td>\n",
       "      <td>Los versos del destino (Cuentos de Bereth, #3)</td>\n",
       "      <td>155</td>\n",
       "      <td>https://www.goodreads.com/book/show/9959500-lo...</td>\n",
       "      <td>https://images.gr-assets.com/books/1299054794m...</td>\n",
       "      <td>los versos del destino cuentos de bereth 3</td>\n",
       "    </tr>\n",
       "    <tr>\n",
       "      <th>6189</th>\n",
       "      <td>9961796</td>\n",
       "      <td>1</td>\n",
       "      <td>4.000000</td>\n",
       "      <td>Lola and the Boy Next Door (Anna and the Frenc...</td>\n",
       "      <td>110284</td>\n",
       "      <td>https://www.goodreads.com/book/show/9961796-lo...</td>\n",
       "      <td>https://images.gr-assets.com/books/1358271832m...</td>\n",
       "      <td>lola and the boy next door anna and the french...</td>\n",
       "    </tr>\n",
       "    <tr>\n",
       "      <th>6190</th>\n",
       "      <td>9966140</td>\n",
       "      <td>1</td>\n",
       "      <td>4.000000</td>\n",
       "      <td>The White Lama #1 : Reinkarnasi</td>\n",
       "      <td>17</td>\n",
       "      <td>https://www.goodreads.com/book/show/9966140-th...</td>\n",
       "      <td>https://images.gr-assets.com/books/1292836984m...</td>\n",
       "      <td>the white lama 1  reinkarnasi</td>\n",
       "    </tr>\n",
       "    <tr>\n",
       "      <th>6191</th>\n",
       "      <td>999480</td>\n",
       "      <td>1</td>\n",
       "      <td>5.000000</td>\n",
       "      <td>Violent Volcanoes</td>\n",
       "      <td>236</td>\n",
       "      <td>https://www.goodreads.com/book/show/999480.Vio...</td>\n",
       "      <td>https://s.gr-assets.com/assets/nophoto/book/11...</td>\n",
       "      <td>violent volcanoes</td>\n",
       "    </tr>\n",
       "    <tr>\n",
       "      <th>6192</th>\n",
       "      <td>9997666</td>\n",
       "      <td>1</td>\n",
       "      <td>5.000000</td>\n",
       "      <td>Miau (Miau, #1)</td>\n",
       "      <td>62</td>\n",
       "      <td>https://www.goodreads.com/book/show/9997666-miau</td>\n",
       "      <td>https://images.gr-assets.com/books/1293107888m...</td>\n",
       "      <td>miau miau 1</td>\n",
       "    </tr>\n",
       "  </tbody>\n",
       "</table>\n",
       "<p>6193 rows × 8 columns</p>\n",
       "</div>"
      ],
      "text/plain": [
       "       book_id  count      mean  \\\n",
       "0            1      3  3.666667   \n",
       "1           10      1  4.000000   \n",
       "2     10018310      1  3.000000   \n",
       "3     10048888      1  3.000000   \n",
       "4     10049436      2  0.000000   \n",
       "...        ...    ...       ...   \n",
       "6188   9959500      1  4.000000   \n",
       "6189   9961796      1  4.000000   \n",
       "6190   9966140      1  4.000000   \n",
       "6191    999480      1  5.000000   \n",
       "6192   9997666      1  5.000000   \n",
       "\n",
       "                                                  title  ratings  \\\n",
       "0     Harry Potter and the Half-Blood Prince (Harry ...  1713866   \n",
       "1          Harry Potter Collection (Harry Potter, #1-6)    25245   \n",
       "2                                       Shin Suikoden 1      270   \n",
       "3                              Kisah-kisah Tengah Malam      436   \n",
       "4                          The Single Girl's To-Do List    10026   \n",
       "...                                                 ...      ...   \n",
       "6188     Los versos del destino (Cuentos de Bereth, #3)      155   \n",
       "6189  Lola and the Boy Next Door (Anna and the Frenc...   110284   \n",
       "6190                    The White Lama #1 : Reinkarnasi       17   \n",
       "6191                                  Violent Volcanoes      236   \n",
       "6192                                    Miau (Miau, #1)       62   \n",
       "\n",
       "                                                    url  \\\n",
       "0     https://www.goodreads.com/book/show/1.Harry_Po...   \n",
       "1     https://www.goodreads.com/book/show/10.Harry_P...   \n",
       "2     https://www.goodreads.com/book/show/10018310-s...   \n",
       "3     https://www.goodreads.com/book/show/10048888-k...   \n",
       "4     https://www.goodreads.com/book/show/10049436-t...   \n",
       "...                                                 ...   \n",
       "6188  https://www.goodreads.com/book/show/9959500-lo...   \n",
       "6189  https://www.goodreads.com/book/show/9961796-lo...   \n",
       "6190  https://www.goodreads.com/book/show/9966140-th...   \n",
       "6191  https://www.goodreads.com/book/show/999480.Vio...   \n",
       "6192   https://www.goodreads.com/book/show/9997666-miau   \n",
       "\n",
       "                                            cover_image  \\\n",
       "0     https://images.gr-assets.com/books/1361039191m...   \n",
       "1     https://images.gr-assets.com/books/1328867351m...   \n",
       "2     https://s.gr-assets.com/assets/nophoto/book/11...   \n",
       "3     https://images.gr-assets.com/books/1293528971m...   \n",
       "4     https://images.gr-assets.com/books/1327955203m...   \n",
       "...                                                 ...   \n",
       "6188  https://images.gr-assets.com/books/1299054794m...   \n",
       "6189  https://images.gr-assets.com/books/1358271832m...   \n",
       "6190  https://images.gr-assets.com/books/1292836984m...   \n",
       "6191  https://s.gr-assets.com/assets/nophoto/book/11...   \n",
       "6192  https://images.gr-assets.com/books/1293107888m...   \n",
       "\n",
       "                                              mod_title  \n",
       "0     harry potter and the halfblood prince harry po...  \n",
       "1               harry potter collection harry potter 16  \n",
       "2                                       shin suikoden 1  \n",
       "3                               kisahkisah tengah malam  \n",
       "4                            the single girls todo list  \n",
       "...                                                 ...  \n",
       "6188         los versos del destino cuentos de bereth 3  \n",
       "6189  lola and the boy next door anna and the french...  \n",
       "6190                      the white lama 1  reinkarnasi  \n",
       "6191                                  violent volcanoes  \n",
       "6192                                        miau miau 1  \n",
       "\n",
       "[6193 rows x 8 columns]"
      ]
     },
     "execution_count": 639,
     "metadata": {},
     "output_type": "execute_result"
    }
   ],
   "source": [
    "book_recs\n"
   ]
  },
  {
   "cell_type": "code",
   "execution_count": 640,
   "id": "3ec6820e-0270-4b36-b61e-fea641b95c39",
   "metadata": {},
   "outputs": [],
   "source": [
    "book_recs[\"adjusted_count\"] = book_recs[\"count\"] * (book_recs[\"count\"] / book_recs[\"ratings\"])\n"
   ]
  },
  {
   "cell_type": "code",
   "execution_count": 641,
   "id": "842748a1-0593-4b27-b61c-6a566db217d5",
   "metadata": {},
   "outputs": [],
   "source": [
    "book_recs[\"score\"] = book_recs[\"mean\"] * book_recs[\"adjusted_count\"]\n"
   ]
  },
  {
   "cell_type": "code",
   "execution_count": 642,
   "id": "36f462ea-8fd3-430f-a42c-1549dc284945",
   "metadata": {},
   "outputs": [],
   "source": [
    "book_recs = book_recs[~book_recs[\"book_id\"].isin(my_books[\"book_id\"])]\n"
   ]
  },
  {
   "cell_type": "code",
   "execution_count": 643,
   "id": "21d7f938-8324-4ef4-819b-d55f9a584939",
   "metadata": {},
   "outputs": [
    {
     "name": "stderr",
     "output_type": "stream",
     "text": [
      "C:\\Users\\lodha\\AppData\\Local\\Temp\\ipykernel_11572\\3389139650.py:1: SettingWithCopyWarning: \n",
      "A value is trying to be set on a copy of a slice from a DataFrame.\n",
      "Try using .loc[row_indexer,col_indexer] = value instead\n",
      "\n",
      "See the caveats in the documentation: https://pandas.pydata.org/pandas-docs/stable/user_guide/indexing.html#returning-a-view-versus-a-copy\n",
      "  my_books[\"mod_title\"] = my_books[\"title\"].str.replace(\"[^a-zA-Z0-9 ]\", \"\", regex=True).str.lower()\n"
     ]
    }
   ],
   "source": [
    "my_books[\"mod_title\"] = my_books[\"title\"].str.replace(\"[^a-zA-Z0-9 ]\", \"\", regex=True).str.lower()\n"
   ]
  },
  {
   "cell_type": "code",
   "execution_count": 644,
   "id": "fed31d2b-0e87-46a6-976d-37ebbcead8a8",
   "metadata": {},
   "outputs": [
    {
     "name": "stderr",
     "output_type": "stream",
     "text": [
      "C:\\Users\\lodha\\AppData\\Local\\Temp\\ipykernel_11572\\240006695.py:1: SettingWithCopyWarning: \n",
      "A value is trying to be set on a copy of a slice from a DataFrame.\n",
      "Try using .loc[row_indexer,col_indexer] = value instead\n",
      "\n",
      "See the caveats in the documentation: https://pandas.pydata.org/pandas-docs/stable/user_guide/indexing.html#returning-a-view-versus-a-copy\n",
      "  my_books[\"mod_title\"] = my_books[\"mod_title\"].str.replace(\"\\s+\", \" \", regex=True)\n"
     ]
    }
   ],
   "source": [
    "my_books[\"mod_title\"] = my_books[\"mod_title\"].str.replace(\"\\s+\", \" \", regex=True)\n"
   ]
  },
  {
   "cell_type": "code",
   "execution_count": 645,
   "id": "a3a67dc2-b771-4ab3-a639-9da8a1087f39",
   "metadata": {},
   "outputs": [],
   "source": [
    "book_recs = book_recs[~book_recs[\"mod_title\"].isin(my_books[\"mod_title\"])]\n"
   ]
  },
  {
   "cell_type": "code",
   "execution_count": 646,
   "id": "c4c7ff89-904a-409c-8dc3-55eae022b571",
   "metadata": {},
   "outputs": [],
   "source": [
    "book_recs = book_recs[book_recs[\"mean\"] >=4]\n"
   ]
  },
  {
   "cell_type": "code",
   "execution_count": 647,
   "id": "04157256-c12e-4879-b2c0-00ebed0d3444",
   "metadata": {},
   "outputs": [],
   "source": [
    "book_recs = book_recs[book_recs[\"count\"]>2]\n"
   ]
  },
  {
   "cell_type": "code",
   "execution_count": 648,
   "id": "ca937e99-e5b8-4e4a-ac10-616b267df086",
   "metadata": {},
   "outputs": [],
   "source": [
    "top_recs = book_recs.sort_values(\"mean\", ascending=False)\n"
   ]
  },
  {
   "cell_type": "code",
   "execution_count": 652,
   "id": "abeb26d8",
   "metadata": {},
   "outputs": [],
   "source": [
    "if len(top_recs) > 10 :\n",
    "    top_recs = top_recs.head(10)\n"
   ]
  },
  {
   "cell_type": "code",
   "execution_count": null,
   "id": "c8b6df64",
   "metadata": {},
   "outputs": [
    {
     "data": {
      "text/plain": [
       "10"
      ]
     },
     "execution_count": 653,
     "metadata": {},
     "output_type": "execute_result"
    }
   ],
   "source": [
    "len(top_recs)\n"
   ]
  },
  {
   "cell_type": "code",
   "execution_count": 649,
   "id": "9e90e68e-c885-45c1-8976-3fa734a8b637",
   "metadata": {},
   "outputs": [
    {
     "data": {
      "text/html": [
       "<style type=\"text/css\">\n",
       "</style>\n",
       "<table id=\"T_09497\">\n",
       "  <thead>\n",
       "    <tr>\n",
       "      <th class=\"blank level0\" >&nbsp;</th>\n",
       "      <th id=\"T_09497_level0_col0\" class=\"col_heading level0 col0\" >book_id</th>\n",
       "      <th id=\"T_09497_level0_col1\" class=\"col_heading level0 col1\" >count</th>\n",
       "      <th id=\"T_09497_level0_col2\" class=\"col_heading level0 col2\" >mean</th>\n",
       "      <th id=\"T_09497_level0_col3\" class=\"col_heading level0 col3\" >title</th>\n",
       "      <th id=\"T_09497_level0_col4\" class=\"col_heading level0 col4\" >ratings</th>\n",
       "      <th id=\"T_09497_level0_col5\" class=\"col_heading level0 col5\" >url</th>\n",
       "      <th id=\"T_09497_level0_col6\" class=\"col_heading level0 col6\" >cover_image</th>\n",
       "      <th id=\"T_09497_level0_col7\" class=\"col_heading level0 col7\" >mod_title</th>\n",
       "      <th id=\"T_09497_level0_col8\" class=\"col_heading level0 col8\" >adjusted_count</th>\n",
       "      <th id=\"T_09497_level0_col9\" class=\"col_heading level0 col9\" >score</th>\n",
       "    </tr>\n",
       "  </thead>\n",
       "  <tbody>\n",
       "    <tr>\n",
       "      <th id=\"T_09497_level0_row0\" class=\"row_heading level0 row0\" >5469</th>\n",
       "      <td id=\"T_09497_row0_col0\" class=\"data row0 col0\" >7260188</td>\n",
       "      <td id=\"T_09497_row0_col1\" class=\"data row0 col1\" >3</td>\n",
       "      <td id=\"T_09497_row0_col2\" class=\"data row0 col2\" >5.000000</td>\n",
       "      <td id=\"T_09497_row0_col3\" class=\"data row0 col3\" >Mockingjay (The Hunger Games, #3)</td>\n",
       "      <td id=\"T_09497_row0_col4\" class=\"data row0 col4\" >1743362</td>\n",
       "      <td id=\"T_09497_row0_col5\" class=\"data row0 col5\" ><a target=\"_blank\" href=\"https://www.goodreads.com/book/show/7260188-mockingjay\">Goodreads</a></td>\n",
       "      <td id=\"T_09497_row0_col6\" class=\"data row0 col6\" ><a href=\"https://images.gr-assets.com/books/1358275419m/7260188.jpg\"><img src=\"https://images.gr-assets.com/books/1358275419m/7260188.jpg\" width=50></img></a></td>\n",
       "      <td id=\"T_09497_row0_col7\" class=\"data row0 col7\" >mockingjay the hunger games 3</td>\n",
       "      <td id=\"T_09497_row0_col8\" class=\"data row0 col8\" >0.000005</td>\n",
       "      <td id=\"T_09497_row0_col9\" class=\"data row0 col9\" >0.000026</td>\n",
       "    </tr>\n",
       "    <tr>\n",
       "      <th id=\"T_09497_level0_row1\" class=\"row_heading level0 row1\" >5006</th>\n",
       "      <td id=\"T_09497_row1_col0\" class=\"data row1 col0\" >6148028</td>\n",
       "      <td id=\"T_09497_row1_col1\" class=\"data row1 col1\" >3</td>\n",
       "      <td id=\"T_09497_row1_col2\" class=\"data row1 col2\" >5.000000</td>\n",
       "      <td id=\"T_09497_row1_col3\" class=\"data row1 col3\" >Catching Fire (The Hunger Games, #2)</td>\n",
       "      <td id=\"T_09497_row1_col4\" class=\"data row1 col4\" >1854746</td>\n",
       "      <td id=\"T_09497_row1_col5\" class=\"data row1 col5\" ><a target=\"_blank\" href=\"https://www.goodreads.com/book/show/6148028-catching-fire\">Goodreads</a></td>\n",
       "      <td id=\"T_09497_row1_col6\" class=\"data row1 col6\" ><a href=\"https://images.gr-assets.com/books/1358273780m/6148028.jpg\"><img src=\"https://images.gr-assets.com/books/1358273780m/6148028.jpg\" width=50></img></a></td>\n",
       "      <td id=\"T_09497_row1_col7\" class=\"data row1 col7\" >catching fire the hunger games 2</td>\n",
       "      <td id=\"T_09497_row1_col8\" class=\"data row1 col8\" >0.000005</td>\n",
       "      <td id=\"T_09497_row1_col9\" class=\"data row1 col9\" >0.000024</td>\n",
       "    </tr>\n",
       "    <tr>\n",
       "      <th id=\"T_09497_level0_row2\" class=\"row_heading level0 row2\" >3579</th>\n",
       "      <td id=\"T_09497_row2_col0\" class=\"data row2 col0\" >2767052</td>\n",
       "      <td id=\"T_09497_row2_col1\" class=\"data row2 col1\" >3</td>\n",
       "      <td id=\"T_09497_row2_col2\" class=\"data row2 col2\" >5.000000</td>\n",
       "      <td id=\"T_09497_row2_col3\" class=\"data row2 col3\" >The Hunger Games (The Hunger Games, #1)</td>\n",
       "      <td id=\"T_09497_row2_col4\" class=\"data row2 col4\" >4899965</td>\n",
       "      <td id=\"T_09497_row2_col5\" class=\"data row2 col5\" ><a target=\"_blank\" href=\"https://www.goodreads.com/book/show/2767052-the-hunger-games\">Goodreads</a></td>\n",
       "      <td id=\"T_09497_row2_col6\" class=\"data row2 col6\" ><a href=\"https://images.gr-assets.com/books/1447303603m/2767052.jpg\"><img src=\"https://images.gr-assets.com/books/1447303603m/2767052.jpg\" width=50></img></a></td>\n",
       "      <td id=\"T_09497_row2_col7\" class=\"data row2 col7\" >the hunger games the hunger games 1</td>\n",
       "      <td id=\"T_09497_row2_col8\" class=\"data row2 col8\" >0.000002</td>\n",
       "      <td id=\"T_09497_row2_col9\" class=\"data row2 col9\" >0.000009</td>\n",
       "    </tr>\n",
       "    <tr>\n",
       "      <th id=\"T_09497_level0_row3\" class=\"row_heading level0 row3\" >1256</th>\n",
       "      <td id=\"T_09497_row3_col0\" class=\"data row3 col0\" >157993</td>\n",
       "      <td id=\"T_09497_row3_col1\" class=\"data row3 col1\" >4</td>\n",
       "      <td id=\"T_09497_row3_col2\" class=\"data row3 col2\" >4.750000</td>\n",
       "      <td id=\"T_09497_row3_col3\" class=\"data row3 col3\" >The Little Prince</td>\n",
       "      <td id=\"T_09497_row3_col4\" class=\"data row3 col4\" >763309</td>\n",
       "      <td id=\"T_09497_row3_col5\" class=\"data row3 col5\" ><a target=\"_blank\" href=\"https://www.goodreads.com/book/show/157993.The_Little_Prince\">Goodreads</a></td>\n",
       "      <td id=\"T_09497_row3_col6\" class=\"data row3 col6\" ><a href=\"https://images.gr-assets.com/books/1367545443m/157993.jpg\"><img src=\"https://images.gr-assets.com/books/1367545443m/157993.jpg\" width=50></img></a></td>\n",
       "      <td id=\"T_09497_row3_col7\" class=\"data row3 col7\" >the little prince</td>\n",
       "      <td id=\"T_09497_row3_col8\" class=\"data row3 col8\" >0.000021</td>\n",
       "      <td id=\"T_09497_row3_col9\" class=\"data row3 col9\" >0.000100</td>\n",
       "    </tr>\n",
       "    <tr>\n",
       "      <th id=\"T_09497_level0_row4\" class=\"row_heading level0 row4\" >21</th>\n",
       "      <td id=\"T_09497_row4_col0\" class=\"data row4 col0\" >101558</td>\n",
       "      <td id=\"T_09497_row4_col1\" class=\"data row4 col1\" >3</td>\n",
       "      <td id=\"T_09497_row4_col2\" class=\"data row4 col2\" >4.666667</td>\n",
       "      <td id=\"T_09497_row4_col3\" class=\"data row4 col3\" >Harry Potter y el cáliz de fuego (Harry Potter, #4)</td>\n",
       "      <td id=\"T_09497_row4_col4\" class=\"data row4 col4\" >4627</td>\n",
       "      <td id=\"T_09497_row4_col5\" class=\"data row4 col5\" ><a target=\"_blank\" href=\"https://www.goodreads.com/book/show/101558.Harry_Potter_y_el_c_liz_de_fuego\">Goodreads</a></td>\n",
       "      <td id=\"T_09497_row4_col6\" class=\"data row4 col6\" ><a href=\"https://images.gr-assets.com/books/1410279751m/101558.jpg\"><img src=\"https://images.gr-assets.com/books/1410279751m/101558.jpg\" width=50></img></a></td>\n",
       "      <td id=\"T_09497_row4_col7\" class=\"data row4 col7\" >harry potter y el cliz de fuego harry potter 4</td>\n",
       "      <td id=\"T_09497_row4_col8\" class=\"data row4 col8\" >0.001945</td>\n",
       "      <td id=\"T_09497_row4_col9\" class=\"data row4 col9\" >0.009077</td>\n",
       "    </tr>\n",
       "    <tr>\n",
       "      <th id=\"T_09497_level0_row5\" class=\"row_heading level0 row5\" >1090</th>\n",
       "      <td id=\"T_09497_row5_col0\" class=\"data row5 col0\" >147865</td>\n",
       "      <td id=\"T_09497_row5_col1\" class=\"data row5 col1\" >3</td>\n",
       "      <td id=\"T_09497_row5_col2\" class=\"data row5 col2\" >4.333333</td>\n",
       "      <td id=\"T_09497_row5_col3\" class=\"data row5 col3\" >Love, Rosie</td>\n",
       "      <td id=\"T_09497_row5_col4\" class=\"data row5 col4\" >56328</td>\n",
       "      <td id=\"T_09497_row5_col5\" class=\"data row5 col5\" ><a target=\"_blank\" href=\"https://www.goodreads.com/book/show/147865.Love_Rosie\">Goodreads</a></td>\n",
       "      <td id=\"T_09497_row5_col6\" class=\"data row5 col6\" ><a href=\"https://images.gr-assets.com/books/1420732457m/147865.jpg\"><img src=\"https://images.gr-assets.com/books/1420732457m/147865.jpg\" width=50></img></a></td>\n",
       "      <td id=\"T_09497_row5_col7\" class=\"data row5 col7\" >love rosie</td>\n",
       "      <td id=\"T_09497_row5_col8\" class=\"data row5 col8\" >0.000160</td>\n",
       "      <td id=\"T_09497_row5_col9\" class=\"data row5 col9\" >0.000692</td>\n",
       "    </tr>\n",
       "    <tr>\n",
       "      <th id=\"T_09497_level0_row6\" class=\"row_heading level0 row6\" >1238</th>\n",
       "      <td id=\"T_09497_row6_col0\" class=\"data row6 col0\" >15760001</td>\n",
       "      <td id=\"T_09497_row6_col1\" class=\"data row6 col1\" >3</td>\n",
       "      <td id=\"T_09497_row6_col2\" class=\"data row6 col2\" >4.333333</td>\n",
       "      <td id=\"T_09497_row6_col3\" class=\"data row6 col3\" >On Dublin Street (On Dublin Street, #1)</td>\n",
       "      <td id=\"T_09497_row6_col4\" class=\"data row6 col4\" >138479</td>\n",
       "      <td id=\"T_09497_row6_col5\" class=\"data row6 col5\" ><a target=\"_blank\" href=\"https://www.goodreads.com/book/show/15760001-on-dublin-street\">Goodreads</a></td>\n",
       "      <td id=\"T_09497_row6_col6\" class=\"data row6 col6\" ><a href=\"https://images.gr-assets.com/books/1490401910m/15760001.jpg\"><img src=\"https://images.gr-assets.com/books/1490401910m/15760001.jpg\" width=50></img></a></td>\n",
       "      <td id=\"T_09497_row6_col7\" class=\"data row6 col7\" >on dublin street on dublin street 1</td>\n",
       "      <td id=\"T_09497_row6_col8\" class=\"data row6 col8\" >0.000065</td>\n",
       "      <td id=\"T_09497_row6_col9\" class=\"data row6 col9\" >0.000282</td>\n",
       "    </tr>\n",
       "    <tr>\n",
       "      <th id=\"T_09497_level0_row7\" class=\"row_heading level0 row7\" >190</th>\n",
       "      <td id=\"T_09497_row7_col0\" class=\"data row7 col0\" >10959</td>\n",
       "      <td id=\"T_09497_row7_col1\" class=\"data row7 col1\" >3</td>\n",
       "      <td id=\"T_09497_row7_col2\" class=\"data row7 col2\" >4.333333</td>\n",
       "      <td id=\"T_09497_row7_col3\" class=\"data row7 col3\" >Sophie's World</td>\n",
       "      <td id=\"T_09497_row7_col4\" class=\"data row7 col4\" >111215</td>\n",
       "      <td id=\"T_09497_row7_col5\" class=\"data row7 col5\" ><a target=\"_blank\" href=\"https://www.goodreads.com/book/show/10959.Sophie_s_World\">Goodreads</a></td>\n",
       "      <td id=\"T_09497_row7_col6\" class=\"data row7 col6\" ><a href=\"https://images.gr-assets.com/books/1343459906m/10959.jpg\"><img src=\"https://images.gr-assets.com/books/1343459906m/10959.jpg\" width=50></img></a></td>\n",
       "      <td id=\"T_09497_row7_col7\" class=\"data row7 col7\" >sophies world</td>\n",
       "      <td id=\"T_09497_row7_col8\" class=\"data row7 col8\" >0.000081</td>\n",
       "      <td id=\"T_09497_row7_col9\" class=\"data row7 col9\" >0.000351</td>\n",
       "    </tr>\n",
       "    <tr>\n",
       "      <th id=\"T_09497_level0_row8\" class=\"row_heading level0 row8\" >4978</th>\n",
       "      <td id=\"T_09497_row8_col0\" class=\"data row8 col0\" >6036910</td>\n",
       "      <td id=\"T_09497_row8_col1\" class=\"data row8 col1\" >3</td>\n",
       "      <td id=\"T_09497_row8_col2\" class=\"data row8 col2\" >4.333333</td>\n",
       "      <td id=\"T_09497_row8_col3\" class=\"data row8 col3\" >Nyanyi Sunyi Seorang Bisu 2</td>\n",
       "      <td id=\"T_09497_row8_col4\" class=\"data row8 col4\" >329</td>\n",
       "      <td id=\"T_09497_row8_col5\" class=\"data row8 col5\" ><a target=\"_blank\" href=\"https://www.goodreads.com/book/show/6036910-nyanyi-sunyi-seorang-bisu-2\">Goodreads</a></td>\n",
       "      <td id=\"T_09497_row8_col6\" class=\"data row8 col6\" ><a href=\"https://images.gr-assets.com/books/1270099645m/6036910.jpg\"><img src=\"https://images.gr-assets.com/books/1270099645m/6036910.jpg\" width=50></img></a></td>\n",
       "      <td id=\"T_09497_row8_col7\" class=\"data row8 col7\" >nyanyi sunyi seorang bisu 2</td>\n",
       "      <td id=\"T_09497_row8_col8\" class=\"data row8 col8\" >0.027356</td>\n",
       "      <td id=\"T_09497_row8_col9\" class=\"data row8 col9\" >0.118541</td>\n",
       "    </tr>\n",
       "    <tr>\n",
       "      <th id=\"T_09497_level0_row9\" class=\"row_heading level0 row9\" >4793</th>\n",
       "      <td id=\"T_09497_row9_col0\" class=\"data row9 col0\" >52529</td>\n",
       "      <td id=\"T_09497_row9_col1\" class=\"data row9 col1\" >3</td>\n",
       "      <td id=\"T_09497_row9_col2\" class=\"data row9 col2\" >4.000000</td>\n",
       "      <td id=\"T_09497_row9_col3\" class=\"data row9 col3\" >The Secret (The Secret, #1)</td>\n",
       "      <td id=\"T_09497_row9_col4\" class=\"data row9 col4\" >247542</td>\n",
       "      <td id=\"T_09497_row9_col5\" class=\"data row9 col5\" ><a target=\"_blank\" href=\"https://www.goodreads.com/book/show/52529.The_Secret\">Goodreads</a></td>\n",
       "      <td id=\"T_09497_row9_col6\" class=\"data row9 col6\" ><a href=\"https://images.gr-assets.com/books/1482865039m/52529.jpg\"><img src=\"https://images.gr-assets.com/books/1482865039m/52529.jpg\" width=50></img></a></td>\n",
       "      <td id=\"T_09497_row9_col7\" class=\"data row9 col7\" >the secret the secret 1</td>\n",
       "      <td id=\"T_09497_row9_col8\" class=\"data row9 col8\" >0.000036</td>\n",
       "      <td id=\"T_09497_row9_col9\" class=\"data row9 col9\" >0.000145</td>\n",
       "    </tr>\n",
       "    <tr>\n",
       "      <th id=\"T_09497_level0_row10\" class=\"row_heading level0 row10\" >5495</th>\n",
       "      <td id=\"T_09497_row10_col0\" class=\"data row10 col0\" >735248</td>\n",
       "      <td id=\"T_09497_row10_col1\" class=\"data row10 col1\" >3</td>\n",
       "      <td id=\"T_09497_row10_col2\" class=\"data row10 col2\" >4.000000</td>\n",
       "      <td id=\"T_09497_row10_col3\" class=\"data row10 col3\" >Gadis Pantai</td>\n",
       "      <td id=\"T_09497_row10_col4\" class=\"data row10 col4\" >2584</td>\n",
       "      <td id=\"T_09497_row10_col5\" class=\"data row10 col5\" ><a target=\"_blank\" href=\"https://www.goodreads.com/book/show/735248.Gadis_Pantai\">Goodreads</a></td>\n",
       "      <td id=\"T_09497_row10_col6\" class=\"data row10 col6\" ><a href=\"https://images.gr-assets.com/books/1484031705m/735248.jpg\"><img src=\"https://images.gr-assets.com/books/1484031705m/735248.jpg\" width=50></img></a></td>\n",
       "      <td id=\"T_09497_row10_col7\" class=\"data row10 col7\" >gadis pantai</td>\n",
       "      <td id=\"T_09497_row10_col8\" class=\"data row10 col8\" >0.003483</td>\n",
       "      <td id=\"T_09497_row10_col9\" class=\"data row10 col9\" >0.013932</td>\n",
       "    </tr>\n",
       "    <tr>\n",
       "      <th id=\"T_09497_level0_row11\" class=\"row_heading level0 row11\" >2010</th>\n",
       "      <td id=\"T_09497_row11_col0\" class=\"data row11 col0\" >18515851</td>\n",
       "      <td id=\"T_09497_row11_col1\" class=\"data row11 col1\" >4</td>\n",
       "      <td id=\"T_09497_row11_col2\" class=\"data row11 col2\" >4.000000</td>\n",
       "      <td id=\"T_09497_row11_col3\" class=\"data row11 col3\" >Vacaciones al amor</td>\n",
       "      <td id=\"T_09497_row11_col4\" class=\"data row11 col4\" >366</td>\n",
       "      <td id=\"T_09497_row11_col5\" class=\"data row11 col5\" ><a target=\"_blank\" href=\"https://www.goodreads.com/book/show/18515851-vacaciones-al-amor\">Goodreads</a></td>\n",
       "      <td id=\"T_09497_row11_col6\" class=\"data row11 col6\" ><a href=\"https://images.gr-assets.com/books/1379467041m/18515851.jpg\"><img src=\"https://images.gr-assets.com/books/1379467041m/18515851.jpg\" width=50></img></a></td>\n",
       "      <td id=\"T_09497_row11_col7\" class=\"data row11 col7\" >vacaciones al amor</td>\n",
       "      <td id=\"T_09497_row11_col8\" class=\"data row11 col8\" >0.043716</td>\n",
       "      <td id=\"T_09497_row11_col9\" class=\"data row11 col9\" >0.174863</td>\n",
       "    </tr>\n",
       "    <tr>\n",
       "      <th id=\"T_09497_level0_row12\" class=\"row_heading level0 row12\" >2226</th>\n",
       "      <td id=\"T_09497_row12_col0\" class=\"data row12 col0\" >2</td>\n",
       "      <td id=\"T_09497_row12_col1\" class=\"data row12 col1\" >3</td>\n",
       "      <td id=\"T_09497_row12_col2\" class=\"data row12 col2\" >4.000000</td>\n",
       "      <td id=\"T_09497_row12_col3\" class=\"data row12 col3\" >Harry Potter and the Order of the Phoenix (Harry Potter, #5)</td>\n",
       "      <td id=\"T_09497_row12_col4\" class=\"data row12 col4\" >1766895</td>\n",
       "      <td id=\"T_09497_row12_col5\" class=\"data row12 col5\" ><a target=\"_blank\" href=\"https://www.goodreads.com/book/show/2.Harry_Potter_and_the_Order_of_the_Phoenix\">Goodreads</a></td>\n",
       "      <td id=\"T_09497_row12_col6\" class=\"data row12 col6\" ><a href=\"https://images.gr-assets.com/books/1507396732m/2.jpg\"><img src=\"https://images.gr-assets.com/books/1507396732m/2.jpg\" width=50></img></a></td>\n",
       "      <td id=\"T_09497_row12_col7\" class=\"data row12 col7\" >harry potter and the order of the phoenix harry potter 5</td>\n",
       "      <td id=\"T_09497_row12_col8\" class=\"data row12 col8\" >0.000005</td>\n",
       "      <td id=\"T_09497_row12_col9\" class=\"data row12 col9\" >0.000020</td>\n",
       "    </tr>\n",
       "    <tr>\n",
       "      <th id=\"T_09497_level0_row13\" class=\"row_heading level0 row13\" >1544</th>\n",
       "      <td id=\"T_09497_row13_col0\" class=\"data row13 col0\" >1677677</td>\n",
       "      <td id=\"T_09497_row13_col1\" class=\"data row13 col1\" >3</td>\n",
       "      <td id=\"T_09497_row13_col2\" class=\"data row13 col2\" >4.000000</td>\n",
       "      <td id=\"T_09497_row13_col3\" class=\"data row13 col3\" >Anak Semua Bangsa</td>\n",
       "      <td id=\"T_09497_row13_col4\" class=\"data row13 col4\" >433</td>\n",
       "      <td id=\"T_09497_row13_col5\" class=\"data row13 col5\" ><a target=\"_blank\" href=\"https://www.goodreads.com/book/show/1677677.Anak_Semua_Bangsa\">Goodreads</a></td>\n",
       "      <td id=\"T_09497_row13_col6\" class=\"data row13 col6\" ><a href=\"https://images.gr-assets.com/books/1484031052m/1677677.jpg\"><img src=\"https://images.gr-assets.com/books/1484031052m/1677677.jpg\" width=50></img></a></td>\n",
       "      <td id=\"T_09497_row13_col7\" class=\"data row13 col7\" >anak semua bangsa</td>\n",
       "      <td id=\"T_09497_row13_col8\" class=\"data row13 col8\" >0.020785</td>\n",
       "      <td id=\"T_09497_row13_col9\" class=\"data row13 col9\" >0.083141</td>\n",
       "    </tr>\n",
       "    <tr>\n",
       "      <th id=\"T_09497_level0_row14\" class=\"row_heading level0 row14\" >994</th>\n",
       "      <td id=\"T_09497_row14_col0\" class=\"data row14 col0\" >1398034</td>\n",
       "      <td id=\"T_09497_row14_col1\" class=\"data row14 col1\" >4</td>\n",
       "      <td id=\"T_09497_row14_col2\" class=\"data row14 col2\" >4.000000</td>\n",
       "      <td id=\"T_09497_row14_col3\" class=\"data row14 col3\" >Bumi Manusia</td>\n",
       "      <td id=\"T_09497_row14_col4\" class=\"data row14 col4\" >8834</td>\n",
       "      <td id=\"T_09497_row14_col5\" class=\"data row14 col5\" ><a target=\"_blank\" href=\"https://www.goodreads.com/book/show/1398034.Bumi_Manusia\">Goodreads</a></td>\n",
       "      <td id=\"T_09497_row14_col6\" class=\"data row14 col6\" ><a href=\"https://images.gr-assets.com/books/1464891625m/1398034.jpg\"><img src=\"https://images.gr-assets.com/books/1464891625m/1398034.jpg\" width=50></img></a></td>\n",
       "      <td id=\"T_09497_row14_col7\" class=\"data row14 col7\" >bumi manusia</td>\n",
       "      <td id=\"T_09497_row14_col8\" class=\"data row14 col8\" >0.001811</td>\n",
       "      <td id=\"T_09497_row14_col9\" class=\"data row14 col9\" >0.007245</td>\n",
       "    </tr>\n",
       "    <tr>\n",
       "      <th id=\"T_09497_level0_row15\" class=\"row_heading level0 row15\" >956</th>\n",
       "      <td id=\"T_09497_row15_col0\" class=\"data row15 col0\" >1371</td>\n",
       "      <td id=\"T_09497_row15_col1\" class=\"data row15 col1\" >3</td>\n",
       "      <td id=\"T_09497_row15_col2\" class=\"data row15 col2\" >4.000000</td>\n",
       "      <td id=\"T_09497_row15_col3\" class=\"data row15 col3\" >The Iliad</td>\n",
       "      <td id=\"T_09497_row15_col4\" class=\"data row15 col4\" >247108</td>\n",
       "      <td id=\"T_09497_row15_col5\" class=\"data row15 col5\" ><a target=\"_blank\" href=\"https://www.goodreads.com/book/show/1371.The_Iliad\">Goodreads</a></td>\n",
       "      <td id=\"T_09497_row15_col6\" class=\"data row15 col6\" ><a href=\"https://s.gr-assets.com/assets/nophoto/book/111x148-bcc042a9c91a29c1d680899eff700a03.png\"><img src=\"https://s.gr-assets.com/assets/nophoto/book/111x148-bcc042a9c91a29c1d680899eff700a03.png\" width=50></img></a></td>\n",
       "      <td id=\"T_09497_row15_col7\" class=\"data row15 col7\" >the iliad</td>\n",
       "      <td id=\"T_09497_row15_col8\" class=\"data row15 col8\" >0.000036</td>\n",
       "      <td id=\"T_09497_row15_col9\" class=\"data row15 col9\" >0.000146</td>\n",
       "    </tr>\n",
       "    <tr>\n",
       "      <th id=\"T_09497_level0_row16\" class=\"row_heading level0 row16\" >5996</th>\n",
       "      <td id=\"T_09497_row16_col0\" class=\"data row16 col0\" >930</td>\n",
       "      <td id=\"T_09497_row16_col1\" class=\"data row16 col1\" >5</td>\n",
       "      <td id=\"T_09497_row16_col2\" class=\"data row16 col2\" >4.000000</td>\n",
       "      <td id=\"T_09497_row16_col3\" class=\"data row16 col3\" >Memoirs of a Geisha</td>\n",
       "      <td id=\"T_09497_row16_col4\" class=\"data row16 col4\" >1301962</td>\n",
       "      <td id=\"T_09497_row16_col5\" class=\"data row16 col5\" ><a target=\"_blank\" href=\"https://www.goodreads.com/book/show/930.Memoirs_of_a_Geisha\">Goodreads</a></td>\n",
       "      <td id=\"T_09497_row16_col6\" class=\"data row16 col6\" ><a href=\"https://s.gr-assets.com/assets/nophoto/book/111x148-bcc042a9c91a29c1d680899eff700a03.png\"><img src=\"https://s.gr-assets.com/assets/nophoto/book/111x148-bcc042a9c91a29c1d680899eff700a03.png\" width=50></img></a></td>\n",
       "      <td id=\"T_09497_row16_col7\" class=\"data row16 col7\" >memoirs of a geisha</td>\n",
       "      <td id=\"T_09497_row16_col8\" class=\"data row16 col8\" >0.000019</td>\n",
       "      <td id=\"T_09497_row16_col9\" class=\"data row16 col9\" >0.000077</td>\n",
       "    </tr>\n",
       "  </tbody>\n",
       "</table>\n"
      ],
      "text/plain": [
       "<pandas.io.formats.style.Styler at 0x269a3f46f10>"
      ]
     },
     "execution_count": 649,
     "metadata": {},
     "output_type": "execute_result"
    }
   ],
   "source": [
    "def make_clickable(val):\n",
    "    return '<a target=\"_blank\" href=\"{}\">Goodreads</a>'.format(val, val)\n",
    "\n",
    "def show_image(val):\n",
    "    return '<a href=\"{}\"><img src=\"{}\" width=50></img></a>'.format(val, val)\n",
    "\n",
    "top_recs.style.format({'url': make_clickable, 'cover_image': show_image})\n"
   ]
  },
  {
   "cell_type": "code",
   "execution_count": null,
   "id": "b36a5156-5a1b-4ee7-a31d-04c3c3da2d5a",
   "metadata": {},
   "outputs": [],
   "source": []
  },
  {
   "cell_type": "code",
   "execution_count": null,
   "id": "3bdfd88f-8fd0-4565-90d0-aec607dd98ca",
   "metadata": {},
   "outputs": [],
   "source": []
  },
  {
   "cell_type": "code",
   "execution_count": null,
   "id": "b05254b7-8c84-4b64-884a-1fdd1021ceec",
   "metadata": {},
   "outputs": [],
   "source": []
  }
 ],
 "metadata": {
  "kernelspec": {
   "display_name": "Python 3 (ipykernel)",
   "language": "python",
   "name": "python3"
  },
  "language_info": {
   "codemirror_mode": {
    "name": "ipython",
    "version": 3
   },
   "file_extension": ".py",
   "mimetype": "text/x-python",
   "name": "python",
   "nbconvert_exporter": "python",
   "pygments_lexer": "ipython3",
   "version": "3.9.13"
  }
 },
 "nbformat": 4,
 "nbformat_minor": 5
}
